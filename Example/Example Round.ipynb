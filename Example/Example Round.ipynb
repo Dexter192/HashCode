{
 "cells": [
  {
   "cell_type": "code",
   "execution_count": 1,
   "metadata": {},
   "outputs": [],
   "source": [
    "import numpy as np"
   ]
  },
  {
   "cell_type": "code",
   "execution_count": 2,
   "metadata": {},
   "outputs": [
    {
     "data": {
      "text/plain": [
       "array([17,  4,  2,  5,  6,  8])"
      ]
     },
     "execution_count": 2,
     "metadata": {},
     "output_type": "execute_result"
    }
   ],
   "source": [
    "## Read in file to\n",
    "\n",
    "def load_file():\n",
    "    with open('a_example.in') as infile:\n",
    "        return [line.strip() for line in infile.readlines()]\n",
    "    return lines\n",
    "\n",
    "the_file = load_file()\n",
    "\n",
    "def clean_file(the_file):\n",
    "    splitted = [file.split(' ') for file in the_file]\n",
    "    return splitted\n",
    "\n",
    "cleaned_file = clean_file(the_file)\n",
    "\n",
    "def flat_list(cleaned_file):\n",
    "    flattened_list = []\n",
    "    for sublist in cleaned_file:\n",
    "        for item in sublist:\n",
    "            flattened_list.append(int(item))\n",
    "    return flattened_list\n",
    "\n",
    "\n",
    "df = np.asarray(flat_list(cleaned_file))\n",
    "df"
   ]
  },
  {
   "cell_type": "code",
   "execution_count": null,
   "metadata": {},
   "outputs": [],
   "source": []
  },
  {
   "cell_type": "code",
   "execution_count": null,
   "metadata": {},
   "outputs": [],
   "source": []
  },
  {
   "cell_type": "code",
   "execution_count": 3,
   "metadata": {},
   "outputs": [
    {
     "name": "stdout",
     "output_type": "stream",
     "text": [
      "17 4 [2 5 6 8]\n"
     ]
    }
   ],
   "source": [
    "M = df[0]; N = df[1]; df_new = df[2:]\n",
    "print(M,N,df_new)"
   ]
  },
  {
   "cell_type": "code",
   "execution_count": 4,
   "metadata": {},
   "outputs": [
    {
     "name": "stdout",
     "output_type": "stream",
     "text": [
      "16 [3, 2, 0]\n"
     ]
    }
   ],
   "source": [
    "total = 0\n",
    "selection = []\n",
    "for i in range(0,N):\n",
    "    if (total+df_new[N-i-1]) <= M:\n",
    "        total+= df_new[N-i-1]\n",
    "        selection.append(N-i-1)\n",
    "print(total,selection)\n"
   ]
  },
  {
   "cell_type": "code",
   "execution_count": 5,
   "metadata": {},
   "outputs": [],
   "source": [
    "## Write output file\n",
    "\n",
    "f= open(\"submission.out\",\"w+\")\n",
    "\n",
    "f.write(str(len(selection)) + \"\\n\")\n",
    "selection = sorted(selection)\n",
    "selection_string = str(selection)[1:-1] \n",
    "selection_string = selection_string.replace(',', '')\n",
    "f.write(selection_string)\n",
    "f.close()"
   ]
  },
  {
   "cell_type": "code",
   "execution_count": null,
   "metadata": {},
   "outputs": [],
   "source": []
  }
 ],
 "metadata": {
  "kernelspec": {
   "display_name": "Python 3",
   "language": "python",
   "name": "python3"
  },
  "language_info": {
   "codemirror_mode": {
    "name": "ipython",
    "version": 3
   },
   "file_extension": ".py",
   "mimetype": "text/x-python",
   "name": "python",
   "nbconvert_exporter": "python",
   "pygments_lexer": "ipython3",
   "version": "3.7.3"
  }
 },
 "nbformat": 4,
 "nbformat_minor": 2
}

{
 "cells": [
  {
   "cell_type": "code",
   "execution_count": 32,
   "metadata": {},
   "outputs": [
    {
     "data": {
      "text/plain": [
       "['17 4', '2 5 6 8']"
      ]
     },
     "execution_count": 32,
     "metadata": {},
     "output_type": "execute_result"
    }
   ],
   "source": [
    "def load_file():\n",
    "    with open('a_example.in') as infile:\n",
    "        return [line.strip() for line in infile.readlines()]\n",
    "    return lines\n",
    "\n",
    "the_file = load_file()\n",
    "the_file"
   ]
  },
  {
   "cell_type": "code",
   "execution_count": 48,
   "metadata": {},
   "outputs": [
    {
     "data": {
      "text/plain": [
       "[['17', '4'], ['2', '5', '6', '8']]"
      ]
     },
     "execution_count": 48,
     "metadata": {},
     "output_type": "execute_result"
    }
   ],
   "source": [
    "def clean_file(the_file):\n",
    "    splitted = [file.split(' ') for file in the_file]\n",
    "    return splitted\n",
    "\n",
    "cleaned_file = clean_file(the_file)\n",
    "cleaned_file"
   ]
  },
  {
   "cell_type": "code",
   "execution_count": 66,
   "metadata": {},
   "outputs": [
    {
     "data": {
      "text/plain": [
       "array([17,  4,  2,  5,  6,  8])"
      ]
     },
     "execution_count": 66,
     "metadata": {},
     "output_type": "execute_result"
    }
   ],
   "source": [
    "def flat_list(cleaned_file):\n",
    "    flattened_list = []\n",
    "    for sublist in cleaned_file:\n",
    "        for item in sublist:\n",
    "            flattened_list.append(int(item))\n",
    "    return flattened_list\n",
    "    \n",
    "import numpy as np\n",
    "df = np.asarray(flat_list(cleaned_file))\n",
    "df"
   ]
  },
  {
   "cell_type": "code",
   "execution_count": null,
   "metadata": {},
   "outputs": [],
   "source": []
  }
 ],
 "metadata": {
  "kernelspec": {
   "display_name": "Python 3",
   "language": "python",
   "name": "python3"
  },
  "language_info": {
   "codemirror_mode": {
    "name": "ipython",
    "version": 3
   },
   "file_extension": ".py",
   "mimetype": "text/x-python",
   "name": "python",
   "nbconvert_exporter": "python",
   "pygments_lexer": "ipython3",
   "version": "3.7.3"
  }
 },
 "nbformat": 4,
 "nbformat_minor": 2
}

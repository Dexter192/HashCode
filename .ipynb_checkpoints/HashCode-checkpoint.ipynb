{
 "cells": [
  {
   "cell_type": "code",
   "execution_count": 3,
   "metadata": {},
   "outputs": [
    {
     "data": {
      "text/plain": [
       "['6 2 7', '1 2 3 6 5 4', '5 2 2', '0 1 2 3 4', '4 3 1', '0 2 3 5']"
      ]
     },
     "execution_count": 3,
     "metadata": {},
     "output_type": "execute_result"
    }
   ],
   "source": [
    "# a_example, b_small, c_medium, d_quite_big, e_also_big\n",
    "file = 'a_example'\n",
    "def load_file():\n",
    "    with open(file + '.txt') as infile:\n",
    "        return [line.strip() for line in infile.readlines()]\n",
    "    return lines\n",
    "\n",
    "the_file = load_file()\n",
    "the_file"
   ]
  },
  {
   "cell_type": "code",
   "execution_count": 78,
   "metadata": {},
   "outputs": [
    {
     "name": "stdout",
     "output_type": "stream",
     "text": [
      "[1, 2, 3, 6, 5, 4]\n"
     ]
    }
   ],
   "source": [
    "num_books = int(the_file[0].split(' ')[0])\n",
    "num_lib = int(the_file[0].split(' ')[1])\n",
    "num_days = int(the_file[0].split(' ')[2])\n",
    "scores = the_file[1].split(' ')\n",
    "\n",
    "scores = list(map(int, scores))\n",
    "print(scores)             "
   ]
  },
  {
   "cell_type": "code",
   "execution_count": 79,
   "metadata": {},
   "outputs": [
    {
     "data": {
      "text/plain": [
       "[1, 2, 3, 6, 5, 4]"
      ]
     },
     "execution_count": 79,
     "metadata": {},
     "output_type": "execute_result"
    }
   ],
   "source": [
    "scores "
   ]
  },
  {
   "cell_type": "code",
   "execution_count": 81,
   "metadata": {},
   "outputs": [
    {
     "name": "stdout",
     "output_type": "stream",
     "text": [
      "0\n",
      "1\n"
     ]
    }
   ],
   "source": [
    "lib_info = {}\n",
    "\n",
    "def load_lib():\n",
    "    counter = 0\n",
    "    for i in range(2,len(the_file)-1,2):\n",
    "        info = the_file[i].split(' ')\n",
    "        lib_info[counter] = {}\n",
    "        lib_info[counter]['num_books'] = int (info[0])\n",
    "        lib_info[counter]['signup'] = int (info[1])\n",
    "        lib_info[counter]['ship'] = int (info[2])\n",
    "        books = the_file[i+1].split(' ')\n",
    "        lib_info[counter]['books'] = list(map(int, books))\n",
    "\n",
    "        print(counter)\n",
    "        counter += 1\n",
    "load_lib()"
   ]
  },
  {
   "cell_type": "code",
   "execution_count": 83,
   "metadata": {},
   "outputs": [
    {
     "data": {
      "text/plain": [
       "{0: {'num_books': 5, 'signup': 2, 'ship': 2, 'books': [0, 1, 2, 3, 4]},\n",
       " 1: {'num_books': 4, 'signup': 3, 'ship': 1, 'books': [0, 2, 3, 5]}}"
      ]
     },
     "execution_count": 83,
     "metadata": {},
     "output_type": "execute_result"
    }
   ],
   "source": [
    "lib_info"
   ]
  },
  {
   "cell_type": "code",
   "execution_count": 84,
   "metadata": {},
   "outputs": [
    {
     "data": {
      "text/plain": [
       "10"
      ]
     },
     "execution_count": 84,
     "metadata": {},
     "output_type": "execute_result"
    }
   ],
   "source": []
  },
  {
   "cell_type": "code",
   "execution_count": null,
   "metadata": {},
   "outputs": [],
   "source": [
    "f= open(file + \".out\",\"w+\")\n",
    "\n",
    "f.write(str(len(selection)) + \"\\n\")\n",
    "selection = sorted(selection)\n",
    "selection_string = str(selection)[1:-1] \n",
    "selection_string = selection_string.replace(',', '')\n",
    "f.write(selection_string)\n",
    "f.close()"
   ]
  }
 ],
 "metadata": {
  "kernelspec": {
   "display_name": "Python 3",
   "language": "python",
   "name": "python3"
  },
  "language_info": {
   "codemirror_mode": {
    "name": "ipython",
    "version": 3
   },
   "file_extension": ".py",
   "mimetype": "text/x-python",
   "name": "python",
   "nbconvert_exporter": "python",
   "pygments_lexer": "ipython3",
   "version": "3.7.4"
  }
 },
 "nbformat": 4,
 "nbformat_minor": 2
}
